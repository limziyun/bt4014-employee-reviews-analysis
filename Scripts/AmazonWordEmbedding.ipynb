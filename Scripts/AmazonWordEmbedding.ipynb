{
 "cells": [
  {
   "cell_type": "code",
   "execution_count": 1,
   "metadata": {},
   "outputs": [],
   "source": [
    "import pandas as pd\n",
    "import warnings\n",
    "warnings.filterwarnings('ignore')\n",
    "\n",
    "data = pd.read_csv('../Dataset/employee_reviews.csv', encoding = \"ISO-8859-1\",error_bad_lines=False);\n",
    "amazon_df=data.loc[data['company']=='amazon']"
   ]
  },
  {
   "cell_type": "code",
   "execution_count": 2,
   "metadata": {},
   "outputs": [
    {
     "data": {
      "text/html": [
       "<div>\n",
       "<style scoped>\n",
       "    .dataframe tbody tr th:only-of-type {\n",
       "        vertical-align: middle;\n",
       "    }\n",
       "\n",
       "    .dataframe tbody tr th {\n",
       "        vertical-align: top;\n",
       "    }\n",
       "\n",
       "    .dataframe thead th {\n",
       "        text-align: right;\n",
       "    }\n",
       "</style>\n",
       "<table border=\"1\" class=\"dataframe\">\n",
       "  <thead>\n",
       "    <tr style=\"text-align: right;\">\n",
       "      <th></th>\n",
       "      <th>Unnamed: 0</th>\n",
       "      <th>company</th>\n",
       "      <th>location</th>\n",
       "      <th>dates</th>\n",
       "      <th>job-title</th>\n",
       "      <th>summary</th>\n",
       "      <th>pros</th>\n",
       "      <th>cons</th>\n",
       "      <th>advice-to-mgmt</th>\n",
       "      <th>overall-ratings</th>\n",
       "      <th>work-balance-stars</th>\n",
       "      <th>culture-values-stars</th>\n",
       "      <th>carrer-opportunities-stars</th>\n",
       "      <th>comp-benefit-stars</th>\n",
       "      <th>senior-mangemnet-stars</th>\n",
       "      <th>helpful-count</th>\n",
       "      <th>link</th>\n",
       "    </tr>\n",
       "  </thead>\n",
       "  <tbody>\n",
       "    <tr>\n",
       "      <td>7819</td>\n",
       "      <td>7820</td>\n",
       "      <td>amazon</td>\n",
       "      <td>Phoenix, AZ</td>\n",
       "      <td>None</td>\n",
       "      <td>Current Employee - Software Development Manager</td>\n",
       "      <td>An Amazing Place to Work</td>\n",
       "      <td>I've been at Amazon for a month now, and I've ...</td>\n",
       "      <td>No cons, so far - seriously. Like I said, I'm ...</td>\n",
       "      <td>none</td>\n",
       "      <td>5.0</td>\n",
       "      <td>4.0</td>\n",
       "      <td>5.0</td>\n",
       "      <td>5.0</td>\n",
       "      <td>5.0</td>\n",
       "      <td>5.0</td>\n",
       "      <td>580</td>\n",
       "      <td>https://www.glassdoor.com/Reviews/Amazon-Revie...</td>\n",
       "    </tr>\n",
       "    <tr>\n",
       "      <td>7820</td>\n",
       "      <td>7821</td>\n",
       "      <td>amazon</td>\n",
       "      <td>Sunnyvale, CA</td>\n",
       "      <td>Dec 10, 2018</td>\n",
       "      <td>Current Employee - Manager, Software Developme...</td>\n",
       "      <td>Software Development Engineering Manager</td>\n",
       "      <td>Work hard, have fun, make history. Be proud of...</td>\n",
       "      <td>RUS grand each year related to last year's sto...</td>\n",
       "      <td>none</td>\n",
       "      <td>5.0</td>\n",
       "      <td>5.0</td>\n",
       "      <td>5.0</td>\n",
       "      <td>5.0</td>\n",
       "      <td>4.0</td>\n",
       "      <td>5.0</td>\n",
       "      <td>0</td>\n",
       "      <td>https://www.glassdoor.com/Reviews/Amazon-Revie...</td>\n",
       "    </tr>\n",
       "    <tr>\n",
       "      <td>7821</td>\n",
       "      <td>7822</td>\n",
       "      <td>amazon</td>\n",
       "      <td>Seattle, WA</td>\n",
       "      <td>Jan 10, 2016</td>\n",
       "      <td>Current Employee - Anonymous Employee</td>\n",
       "      <td>You Get What You Put In</td>\n",
       "      <td>Really smart people, a lot of opportunity for ...</td>\n",
       "      <td>You have to be self motivated. NO ONE will hol...</td>\n",
       "      <td>More on-boarding training before new employees...</td>\n",
       "      <td>5.0</td>\n",
       "      <td>4.0</td>\n",
       "      <td>5.0</td>\n",
       "      <td>5.0</td>\n",
       "      <td>5.0</td>\n",
       "      <td>5.0</td>\n",
       "      <td>1759</td>\n",
       "      <td>https://www.glassdoor.com/Reviews/Amazon-Revie...</td>\n",
       "    </tr>\n",
       "    <tr>\n",
       "      <td>7822</td>\n",
       "      <td>7823</td>\n",
       "      <td>amazon</td>\n",
       "      <td>Seattle, WA</td>\n",
       "      <td>Feb 20, 2016</td>\n",
       "      <td>Current Employee - Senior Engineering Manager</td>\n",
       "      <td>Exciting Work, Abusive Culture</td>\n",
       "      <td>Jeff Bezos and his \"S-Team\" are brilliant and ...</td>\n",
       "      <td>The management process is abusive, and I'm cur...</td>\n",
       "      <td>Don't pretend that the recent NY Times article...</td>\n",
       "      <td>3.0</td>\n",
       "      <td>3.0</td>\n",
       "      <td>3.0</td>\n",
       "      <td>3.0</td>\n",
       "      <td>4.0</td>\n",
       "      <td>4.0</td>\n",
       "      <td>1404</td>\n",
       "      <td>https://www.glassdoor.com/Reviews/Amazon-Revie...</td>\n",
       "    </tr>\n",
       "    <tr>\n",
       "      <td>7823</td>\n",
       "      <td>7824</td>\n",
       "      <td>amazon</td>\n",
       "      <td>Seattle, WA</td>\n",
       "      <td>Dec 17, 2013</td>\n",
       "      <td>Current Employee - Software Development Manager</td>\n",
       "      <td>Can be amazing for some people, horrible for o...</td>\n",
       "      <td>Amazon is doing lot's of cool stuff...but lots...</td>\n",
       "      <td>- You're responsible for your own career progr...</td>\n",
       "      <td>Stack ranking is a horrible practice since it'...</td>\n",
       "      <td>4.0</td>\n",
       "      <td>3.0</td>\n",
       "      <td>3.0</td>\n",
       "      <td>5.0</td>\n",
       "      <td>5.0</td>\n",
       "      <td>4.0</td>\n",
       "      <td>1275</td>\n",
       "      <td>https://www.glassdoor.com/Reviews/Amazon-Revie...</td>\n",
       "    </tr>\n",
       "  </tbody>\n",
       "</table>\n",
       "</div>"
      ],
      "text/plain": [
       "      Unnamed: 0 company       location          dates  \\\n",
       "7819        7820  amazon    Phoenix, AZ           None   \n",
       "7820        7821  amazon  Sunnyvale, CA   Dec 10, 2018   \n",
       "7821        7822  amazon    Seattle, WA   Jan 10, 2016   \n",
       "7822        7823  amazon    Seattle, WA   Feb 20, 2016   \n",
       "7823        7824  amazon    Seattle, WA   Dec 17, 2013   \n",
       "\n",
       "                                              job-title  \\\n",
       "7819    Current Employee - Software Development Manager   \n",
       "7820  Current Employee - Manager, Software Developme...   \n",
       "7821              Current Employee - Anonymous Employee   \n",
       "7822      Current Employee - Senior Engineering Manager   \n",
       "7823    Current Employee - Software Development Manager   \n",
       "\n",
       "                                                summary  \\\n",
       "7819                           An Amazing Place to Work   \n",
       "7820           Software Development Engineering Manager   \n",
       "7821                            You Get What You Put In   \n",
       "7822                     Exciting Work, Abusive Culture   \n",
       "7823  Can be amazing for some people, horrible for o...   \n",
       "\n",
       "                                                   pros  \\\n",
       "7819  I've been at Amazon for a month now, and I've ...   \n",
       "7820  Work hard, have fun, make history. Be proud of...   \n",
       "7821  Really smart people, a lot of opportunity for ...   \n",
       "7822  Jeff Bezos and his \"S-Team\" are brilliant and ...   \n",
       "7823  Amazon is doing lot's of cool stuff...but lots...   \n",
       "\n",
       "                                                   cons  \\\n",
       "7819  No cons, so far - seriously. Like I said, I'm ...   \n",
       "7820  RUS grand each year related to last year's sto...   \n",
       "7821  You have to be self motivated. NO ONE will hol...   \n",
       "7822  The management process is abusive, and I'm cur...   \n",
       "7823  - You're responsible for your own career progr...   \n",
       "\n",
       "                                         advice-to-mgmt  overall-ratings  \\\n",
       "7819                                               none              5.0   \n",
       "7820                                               none              5.0   \n",
       "7821  More on-boarding training before new employees...              5.0   \n",
       "7822  Don't pretend that the recent NY Times article...              3.0   \n",
       "7823  Stack ranking is a horrible practice since it'...              4.0   \n",
       "\n",
       "     work-balance-stars culture-values-stars carrer-opportunities-stars  \\\n",
       "7819                4.0                  5.0                        5.0   \n",
       "7820                5.0                  5.0                        5.0   \n",
       "7821                4.0                  5.0                        5.0   \n",
       "7822                3.0                  3.0                        3.0   \n",
       "7823                3.0                  3.0                        5.0   \n",
       "\n",
       "     comp-benefit-stars senior-mangemnet-stars  helpful-count  \\\n",
       "7819                5.0                    5.0            580   \n",
       "7820                4.0                    5.0              0   \n",
       "7821                5.0                    5.0           1759   \n",
       "7822                4.0                    4.0           1404   \n",
       "7823                5.0                    4.0           1275   \n",
       "\n",
       "                                                   link  \n",
       "7819  https://www.glassdoor.com/Reviews/Amazon-Revie...  \n",
       "7820  https://www.glassdoor.com/Reviews/Amazon-Revie...  \n",
       "7821  https://www.glassdoor.com/Reviews/Amazon-Revie...  \n",
       "7822  https://www.glassdoor.com/Reviews/Amazon-Revie...  \n",
       "7823  https://www.glassdoor.com/Reviews/Amazon-Revie...  "
      ]
     },
     "execution_count": 2,
     "metadata": {},
     "output_type": "execute_result"
    }
   ],
   "source": [
    "amazon_df.head()"
   ]
  },
  {
   "cell_type": "code",
   "execution_count": 3,
   "metadata": {},
   "outputs": [],
   "source": [
    "pro_lines=amazon_df['pros'].values.tolist()"
   ]
  },
  {
   "cell_type": "code",
   "execution_count": 4,
   "metadata": {},
   "outputs": [],
   "source": [
    "# nltk.download('punkt')"
   ]
  },
  {
   "cell_type": "code",
   "execution_count": 5,
   "metadata": {},
   "outputs": [],
   "source": [
    "import string\n",
    "from nltk.tokenize import word_tokenize\n",
    "import nltk\n",
    "\n",
    "review_pro_lines=list()\n",
    "\n",
    "for line in pro_lines:\n",
    "    tokens=word_tokenize(line)\n",
    "    #convert lower\n",
    "    tokens=[w.lower() for w in tokens]\n",
    "    #punctuation\n",
    "    table=str.maketrans('','',string.punctuation)\n",
    "    stripped=[w.translate(table) for w in tokens]\n",
    "    #remove non alphabetic\n",
    "    words = [word for word in stripped if word.isalpha()]\n",
    "    #stop words\n",
    "    stop_words = nltk.corpus.stopwords.words('english')\n",
    "    words=[w for w in words if not w in stop_words]\n",
    "    #remove short words\n",
    "    words = [word for word in words if len(word)>3]\n",
    "    review_pro_lines.append(words)"
   ]
  },
  {
   "cell_type": "code",
   "execution_count": 6,
   "metadata": {},
   "outputs": [
    {
     "name": "stdout",
     "output_type": "stream",
     "text": [
      "[['amazon', 'month', 'seen', 'none', 'horror', 'stories', 'communicated', 'public', 'although', 'amazon', 'large', 'enough', 'company', 'sure', 'good', 'pockets', 'pockets', 'everyone', 'really', 'smart', 'wants', 'succeed', 'personally', 'company', 'people', 'collaborate', 'help', 'focus', 'data', 'truly', 'focus', 'customer', 'every', 'company', 'ever', 'worked', 'talks', 'important', 'customer', 'forgotten', 'amazon', 'seems', 'genuinely', 'focus', 'best', 'customer', 'awesome', 'meetings', 'people', 'actually', 'bring', 'make', 'decisions', 'focused', 'longterm', 'customer', 'satisfaction', 'opportunities', 'learn', 'literally', 'unlimited', 'opportunity', 'take', 'responsibility', 'well', 'honestly', 'believe', 'awesome', 'want'], ['work', 'hard', 'make', 'history', 'proud', 'self']]\n"
     ]
    }
   ],
   "source": [
    "print(review_pro_lines[:2])"
   ]
  },
  {
   "cell_type": "code",
   "execution_count": 7,
   "metadata": {},
   "outputs": [],
   "source": [
    "flatten_amazon_pro = lambda l: [item for sublist in l for item in sublist]"
   ]
  },
  {
   "cell_type": "code",
   "execution_count": 8,
   "metadata": {},
   "outputs": [
    {
     "name": "stdout",
     "output_type": "stream",
     "text": [
      "[('work', 11850), ('good', 8828), ('great', 7439), ('people', 5146), ('company', 4277), ('benefits', 4208), ('amazon', 4202), ('environment', 3212), ('time', 2568), ('working', 2379)]\n"
     ]
    }
   ],
   "source": [
    "from collections import Counter\n",
    "counts = Counter(flatten_amazon_pro(review_pro_lines))\n",
    "print(counts.most_common(10))"
   ]
  },
  {
   "cell_type": "code",
   "execution_count": 9,
   "metadata": {},
   "outputs": [
    {
     "name": "stdout",
     "output_type": "stream",
     "text": [
      "13012\n"
     ]
    }
   ],
   "source": [
    "import gensim\n",
    "\n",
    "model_pro=gensim.models.Word2Vec(sentences=review_pro_lines,size=100,window=5,workers=4,min_count=1,sg=1)\n",
    "\n",
    "#vocab\n",
    "words=list(model_pro.wv.vocab)\n",
    "print(len(words))"
   ]
  },
  {
   "cell_type": "markdown",
   "metadata": {},
   "source": [
    "## Pros"
   ]
  },
  {
   "cell_type": "code",
   "execution_count": 10,
   "metadata": {},
   "outputs": [
    {
     "data": {
      "text/plain": [
       "[('filled', 0.8556286096572876),\n",
       " ('loads', 0.8526211380958557),\n",
       " ('stressful', 0.8427448868751526),\n",
       " ('working', 0.8415092825889587),\n",
       " ('teammates', 0.838557779788971),\n",
       " ('vibrant', 0.8366100788116455),\n",
       " ('workplace', 0.8353260159492493),\n",
       " ('shortage', 0.8324125409126282),\n",
       " ('enjoy', 0.832303524017334),\n",
       " ('lovely', 0.8306415677070618)]"
      ]
     },
     "execution_count": 10,
     "metadata": {},
     "output_type": "execute_result"
    }
   ],
   "source": [
    "model_pro.wv.most_similar('work')"
   ]
  },
  {
   "cell_type": "code",
   "execution_count": 11,
   "metadata": {},
   "outputs": [
    {
     "data": {
      "text/plain": [
       "[('coworkers', 0.8696909546852112),\n",
       " ('folks', 0.8663713932037354),\n",
       " ('incredibly', 0.8605695962905884),\n",
       " ('colleagues', 0.851917028427124),\n",
       " ('dedicated', 0.8433777093887329),\n",
       " ('peoples', 0.8431509733200073),\n",
       " ('teammates', 0.8427217602729797),\n",
       " ('pleasure', 0.8408931493759155),\n",
       " ('everywhere', 0.8393527269363403),\n",
       " ('professionals', 0.838049054145813)]"
      ]
     },
     "execution_count": 11,
     "metadata": {},
     "output_type": "execute_result"
    }
   ],
   "source": [
    "model_pro.wv.most_similar('people')"
   ]
  },
  {
   "cell_type": "code",
   "execution_count": 12,
   "metadata": {},
   "outputs": [
    {
     "data": {
      "text/plain": [
       "[('organization', 0.852258563041687),\n",
       " ('organisation', 0.8229045867919922),\n",
       " ('stability', 0.8180731534957886),\n",
       " ('continue', 0.8174675703048706),\n",
       " ('amazon', 0.8170952796936035),\n",
       " ('india', 0.8105155229568481),\n",
       " ('meritocracy', 0.8035799264907837),\n",
       " ('ethic', 0.8025376796722412),\n",
       " ('fastest', 0.8018060326576233),\n",
       " ('fortune', 0.7998152375221252)]"
      ]
     },
     "execution_count": 12,
     "metadata": {},
     "output_type": "execute_result"
    }
   ],
   "source": [
    "model_pro.wv.most_similar('company')"
   ]
  },
  {
   "cell_type": "code",
   "execution_count": 13,
   "metadata": {},
   "outputs": [
    {
     "data": {
      "text/plain": [
       "[('atmosphere', 0.9089499711990356),\n",
       " ('enviroment', 0.8725459575653076),\n",
       " ('workplace', 0.8682811260223389),\n",
       " ('crowd', 0.8614559769630432),\n",
       " ('enviornment', 0.8430446982383728),\n",
       " ('multicultural', 0.8425078392028809),\n",
       " ('energetic', 0.8363480567932129),\n",
       " ('lively', 0.8356115818023682),\n",
       " ('seniors', 0.8301893472671509),\n",
       " ('conditions', 0.828109860420227)]"
      ]
     },
     "execution_count": 13,
     "metadata": {},
     "output_type": "execute_result"
    }
   ],
   "source": [
    "model_pro.wv.most_similar('environment')"
   ]
  },
  {
   "cell_type": "code",
   "execution_count": 14,
   "metadata": {},
   "outputs": [
    {
     "data": {
      "text/plain": [
       "[('benifits', 0.9305768013000488),\n",
       " ('benefit', 0.9045250415802002),\n",
       " ('stable', 0.8930386304855347),\n",
       " ('wages', 0.8888601660728455),\n",
       " ('healthcare', 0.8844038248062134),\n",
       " ('incentives', 0.8825662732124329),\n",
       " ('coverage', 0.8769460916519165),\n",
       " ('incentive', 0.8752987384796143),\n",
       " ('affordable', 0.8725576996803284),\n",
       " ('insurance', 0.869389533996582)]"
      ]
     },
     "execution_count": 14,
     "metadata": {},
     "output_type": "execute_result"
    }
   ],
   "source": [
    "model_pro.wv.most_similar('benefits')"
   ]
  },
  {
   "cell_type": "code",
   "execution_count": 15,
   "metadata": {},
   "outputs": [
    {
     "data": {
      "text/plain": [
       "[('coffee', 0.8963438272476196),\n",
       " ('food', 0.8856947422027588),\n",
       " ('snacks', 0.8533681631088257),\n",
       " ('vending', 0.8434355854988098),\n",
       " ('drinks', 0.8396281003952026),\n",
       " ('lunch', 0.8354094624519348),\n",
       " ('parking', 0.8292257785797119),\n",
       " ('rooms', 0.8187599778175354),\n",
       " ('machines', 0.8160852193832397),\n",
       " ('clean', 0.8151347637176514)]"
      ]
     },
     "execution_count": 15,
     "metadata": {},
     "output_type": "execute_result"
    }
   ],
   "source": [
    "model_pro.wv.most_similar('free')"
   ]
  },
  {
   "cell_type": "code",
   "execution_count": 16,
   "metadata": {},
   "outputs": [
    {
     "data": {
      "text/plain": [
       "[('atmosphere', 0.9089499711990356),\n",
       " ('enviroment', 0.8725459575653076),\n",
       " ('workplace', 0.8682811260223389),\n",
       " ('crowd', 0.8614559769630432),\n",
       " ('enviornment', 0.8430446982383728),\n",
       " ('multicultural', 0.8425078392028809),\n",
       " ('energetic', 0.8363480567932129),\n",
       " ('lively', 0.8356115818023682),\n",
       " ('seniors', 0.8301893472671509),\n",
       " ('conditions', 0.828109860420227)]"
      ]
     },
     "execution_count": 16,
     "metadata": {},
     "output_type": "execute_result"
    }
   ],
   "source": [
    "model_pro.wv.most_similar('environment')"
   ]
  },
  {
   "cell_type": "markdown",
   "metadata": {},
   "source": [
    "## Cons"
   ]
  },
  {
   "cell_type": "code",
   "execution_count": 17,
   "metadata": {},
   "outputs": [],
   "source": [
    "con_lines=amazon_df['cons'].values.tolist()"
   ]
  },
  {
   "cell_type": "code",
   "execution_count": 18,
   "metadata": {},
   "outputs": [],
   "source": [
    "review_con_lines=list()\n",
    "\n",
    "stop_words = nltk.corpus.stopwords.words('english')\n",
    "\n",
    "for line in con_lines:\n",
    "    tokens=word_tokenize(line)\n",
    "    #convert lower\n",
    "    tokens=[w.lower() for w in tokens]\n",
    "    #punctuation\n",
    "    table=str.maketrans('','',string.punctuation)\n",
    "    stripped=[w.translate(table) for w in tokens]\n",
    "    #remove non alphabetic\n",
    "    words = [word for word in stripped if word.isalpha()]\n",
    "    #stop words\n",
    "    words=[w for w in words if not w in stop_words]\n",
    "    review_con_lines.append(words)"
   ]
  },
  {
   "cell_type": "code",
   "execution_count": 19,
   "metadata": {},
   "outputs": [
    {
     "name": "stdout",
     "output_type": "stream",
     "text": [
      "[['cons', 'far', 'seriously', 'like', 'said', 'sure', 'amazon', 'bad', 'pockets', 'amazing', 'job', 'amazing', 'opportunity', 'biggest', 'thing', 'complain', 'little', 'chilly', 'building', 'live', 'amazon', 'demand', 'high', 'quality', 'measurable', 'results', 'yes', 'hard', 'work', 'yes', 'rewarding', 'yes', 'calling', 'con', 'worklife', 'balance', 'seems', 'comparable', 'places', 'worked', 'worse'], ['rus', 'grand', 'year', 'related', 'last', 'year', 'stock', 'performance', 'well', 'stock', 'goes', 'less', 'get', 'refresh', 'bad', 'problem']]\n"
     ]
    }
   ],
   "source": [
    "print(review_con_lines[:2])"
   ]
  },
  {
   "cell_type": "code",
   "execution_count": 20,
   "metadata": {},
   "outputs": [],
   "source": [
    "flatten_amazon_con = lambda l: [item for sublist in l for item in sublist]"
   ]
  },
  {
   "cell_type": "code",
   "execution_count": 21,
   "metadata": {},
   "outputs": [
    {
     "name": "stdout",
     "output_type": "stream",
     "text": [
      "[('work', 10674), ('nt', 5158), ('get', 4364), ('management', 4040), ('hours', 3938), ('people', 3936), ('amazon', 3930), ('time', 3885), ('company', 3318), ('long', 2802)]\n"
     ]
    }
   ],
   "source": [
    "from collections import Counter\n",
    "counts = Counter(flatten_amazon_con(review_con_lines))\n",
    "print(counts.most_common(10))"
   ]
  },
  {
   "cell_type": "code",
   "execution_count": 22,
   "metadata": {},
   "outputs": [
    {
     "name": "stdout",
     "output_type": "stream",
     "text": [
      "20481\n"
     ]
    }
   ],
   "source": [
    "model_con=gensim.models.Word2Vec(sentences=review_con_lines,size=100,window=5,workers=4,min_count=1,sg=1)\n",
    "\n",
    "#vocab\n",
    "words=list(model_con.wv.vocab)\n",
    "print(len(words))"
   ]
  },
  {
   "cell_type": "code",
   "execution_count": 23,
   "metadata": {},
   "outputs": [
    {
     "data": {
      "text/plain": [
       "[('commitment', 0.8369872570037842),\n",
       " ('workaholic', 0.833686351776123),\n",
       " ('evenings', 0.8310940861701965),\n",
       " ('manageable', 0.8310450911521912),\n",
       " ('sacrifice', 0.8309109807014465),\n",
       " ('married', 0.8240580558776855),\n",
       " ('tricky', 0.82290118932724),\n",
       " ('soul', 0.8211507797241211),\n",
       " ('prepare', 0.8208450675010681),\n",
       " ('choice', 0.8194434642791748)]"
      ]
     },
     "execution_count": 23,
     "metadata": {},
     "output_type": "execute_result"
    }
   ],
   "source": [
    "model_con.wv.most_similar('work')"
   ]
  },
  {
   "cell_type": "code",
   "execution_count": 24,
   "metadata": {},
   "outputs": [
    {
     "data": {
      "text/plain": [
       "[('colleagues', 0.8216446042060852),\n",
       " ('folks', 0.8154369592666626),\n",
       " ('coworkers', 0.8089162111282349),\n",
       " ('young', 0.8053042888641357),\n",
       " ('individuals', 0.8038519620895386),\n",
       " ('teammates', 0.7963471412658691),\n",
       " ('amazonians', 0.7907947897911072),\n",
       " ('ones', 0.7894304990768433),\n",
       " ('fact', 0.7857497930526733),\n",
       " ('others', 0.7809921503067017)]"
      ]
     },
     "execution_count": 24,
     "metadata": {},
     "output_type": "execute_result"
    }
   ],
   "source": [
    "model_con.wv.most_similar('people')"
   ]
  },
  {
   "cell_type": "code",
   "execution_count": 25,
   "metadata": {},
   "outputs": [
    {
     "data": {
      "text/plain": [
       "[('amazon', 0.8251668214797974),\n",
       " ('organisation', 0.7608954906463623),\n",
       " ('organization', 0.7577157020568848),\n",
       " ('corporation', 0.7568542957305908),\n",
       " ('picture', 0.742406964302063),\n",
       " ('fish', 0.7302219867706299),\n",
       " ('truly', 0.726097822189331),\n",
       " ('retain', 0.7230445146560669),\n",
       " ('employer', 0.7216026186943054),\n",
       " ('proud', 0.7177873849868774)]"
      ]
     },
     "execution_count": 25,
     "metadata": {},
     "output_type": "execute_result"
    }
   ],
   "source": [
    "model_con.wv.most_similar('company')"
   ]
  },
  {
   "cell_type": "code",
   "execution_count": 26,
   "metadata": {},
   "outputs": [
    {
     "data": {
      "text/plain": [
       "[('atmosphere', 0.8391138315200806),\n",
       " ('culture', 0.8179879188537598),\n",
       " ('super', 0.7763509154319763),\n",
       " ('environments', 0.7633570432662964),\n",
       " ('nature', 0.7554206252098083),\n",
       " ('workplace', 0.7494540214538574),\n",
       " ('personalities', 0.7475338578224182),\n",
       " ('hostile', 0.7358274459838867),\n",
       " ('type', 0.7355302572250366),\n",
       " ('paced', 0.7343189716339111)]"
      ]
     },
     "execution_count": 26,
     "metadata": {},
     "output_type": "execute_result"
    }
   ],
   "source": [
    "model_con.wv.most_similar('environment')"
   ]
  },
  {
   "cell_type": "code",
   "execution_count": 27,
   "metadata": {},
   "outputs": [
    {
     "data": {
      "text/plain": [
       "[('discount', 0.9042139649391174),\n",
       " ('insurance', 0.8918516039848328),\n",
       " ('benefit', 0.8896628022193909),\n",
       " ('competitors', 0.8853248357772827),\n",
       " ('package', 0.8758022785186768),\n",
       " ('match', 0.8748709559440613),\n",
       " ('offers', 0.8719407320022583),\n",
       " ('increments', 0.8716408014297485),\n",
       " ('perks', 0.8702542781829834),\n",
       " ('comparable', 0.8666778802871704)]"
      ]
     },
     "execution_count": 27,
     "metadata": {},
     "output_type": "execute_result"
    }
   ],
   "source": [
    "model_con.wv.most_similar('benefits')"
   ]
  },
  {
   "cell_type": "code",
   "execution_count": 28,
   "metadata": {},
   "outputs": [
    {
     "data": {
      "text/plain": [
       "[('snacks', 0.9491590261459351),\n",
       " ('meals', 0.9408756494522095),\n",
       " ('gym', 0.9392995238304138),\n",
       " ('drinks', 0.9315081834793091),\n",
       " ('discounts', 0.9266223907470703),\n",
       " ('membership', 0.924863338470459),\n",
       " ('downtown', 0.9140069484710693),\n",
       " ('stingy', 0.9116811752319336),\n",
       " ('soda', 0.9064756631851196),\n",
       " ('spaces', 0.9054531455039978)]"
      ]
     },
     "execution_count": 28,
     "metadata": {},
     "output_type": "execute_result"
    }
   ],
   "source": [
    "model_con.wv.most_similar('expensive')"
   ]
  },
  {
   "cell_type": "code",
   "execution_count": 29,
   "metadata": {},
   "outputs": [
    {
     "data": {
      "text/plain": [
       "[('pressure', 0.9052754044532776),\n",
       " ('volume', 0.8841605186462402),\n",
       " ('demand', 0.8838560581207275),\n",
       " ('frustration', 0.8762491941452026),\n",
       " ('workloads', 0.8747433423995972),\n",
       " ('resulting', 0.8702303767204285),\n",
       " ('density', 0.8687491416931152),\n",
       " ('flow', 0.8663498759269714),\n",
       " ('tremendous', 0.8650698661804199),\n",
       " ('unreasonably', 0.8622019290924072)]"
      ]
     },
     "execution_count": 29,
     "metadata": {},
     "output_type": "execute_result"
    }
   ],
   "source": [
    "model_con.wv.most_similar('stress')"
   ]
  },
  {
   "cell_type": "code",
   "execution_count": 30,
   "metadata": {},
   "outputs": [
    {
     "data": {
      "text/plain": [
       "[('atmosphere', 0.8391138315200806),\n",
       " ('culture', 0.8179879188537598),\n",
       " ('super', 0.7763509154319763),\n",
       " ('environments', 0.7633570432662964),\n",
       " ('nature', 0.7554206252098083),\n",
       " ('workplace', 0.7494540214538574),\n",
       " ('personalities', 0.7475338578224182),\n",
       " ('hostile', 0.7358274459838867),\n",
       " ('type', 0.7355302572250366),\n",
       " ('paced', 0.7343189716339111)]"
      ]
     },
     "execution_count": 30,
     "metadata": {},
     "output_type": "execute_result"
    }
   ],
   "source": [
    "model_con.wv.most_similar('environment')"
   ]
  }
 ],
 "metadata": {
  "kernelspec": {
   "display_name": "Python 3",
   "language": "python",
   "name": "python3"
  },
  "language_info": {
   "codemirror_mode": {
    "name": "ipython",
    "version": 3
   },
   "file_extension": ".py",
   "mimetype": "text/x-python",
   "name": "python",
   "nbconvert_exporter": "python",
   "pygments_lexer": "ipython3",
   "version": "3.7.4"
  }
 },
 "nbformat": 4,
 "nbformat_minor": 2
}
