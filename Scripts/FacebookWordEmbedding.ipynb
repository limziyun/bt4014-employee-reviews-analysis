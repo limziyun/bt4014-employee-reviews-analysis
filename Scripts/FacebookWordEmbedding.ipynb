{
 "cells": [
  {
   "cell_type": "code",
   "execution_count": 1,
   "metadata": {},
   "outputs": [],
   "source": [
    "import pandas as pd\n",
    "import warnings\n",
    "warnings.filterwarnings('ignore')\n",
    "\n",
    "data = pd.read_csv('../Dataset/employee_reviews.csv', encoding = \"ISO-8859-1\",error_bad_lines=False);\n",
    "facebook_df=data.loc[data['company']=='facebook']"
   ]
  },
  {
   "cell_type": "code",
   "execution_count": 2,
   "metadata": {},
   "outputs": [
    {
     "data": {
      "text/html": [
       "<div>\n",
       "<style scoped>\n",
       "    .dataframe tbody tr th:only-of-type {\n",
       "        vertical-align: middle;\n",
       "    }\n",
       "\n",
       "    .dataframe tbody tr th {\n",
       "        vertical-align: top;\n",
       "    }\n",
       "\n",
       "    .dataframe thead th {\n",
       "        text-align: right;\n",
       "    }\n",
       "</style>\n",
       "<table border=\"1\" class=\"dataframe\">\n",
       "  <thead>\n",
       "    <tr style=\"text-align: right;\">\n",
       "      <th></th>\n",
       "      <th>Unnamed: 0</th>\n",
       "      <th>company</th>\n",
       "      <th>location</th>\n",
       "      <th>dates</th>\n",
       "      <th>job-title</th>\n",
       "      <th>summary</th>\n",
       "      <th>pros</th>\n",
       "      <th>cons</th>\n",
       "      <th>advice-to-mgmt</th>\n",
       "      <th>overall-ratings</th>\n",
       "      <th>work-balance-stars</th>\n",
       "      <th>culture-values-stars</th>\n",
       "      <th>carrer-opportunities-stars</th>\n",
       "      <th>comp-benefit-stars</th>\n",
       "      <th>senior-mangemnet-stars</th>\n",
       "      <th>helpful-count</th>\n",
       "      <th>link</th>\n",
       "    </tr>\n",
       "  </thead>\n",
       "  <tbody>\n",
       "    <tr>\n",
       "      <td>34249</td>\n",
       "      <td>34250</td>\n",
       "      <td>facebook</td>\n",
       "      <td>Menlo Park, CA</td>\n",
       "      <td>Dec 11, 2018</td>\n",
       "      <td>Current Employee - Product Operations</td>\n",
       "      <td>2nd Job out of college --&gt; Great Experience</td>\n",
       "      <td>Context: I worked in operations - Very entrepr...</td>\n",
       "      <td>- Very entrepreneurial culture: There is no fo...</td>\n",
       "      <td>none</td>\n",
       "      <td>5.0</td>\n",
       "      <td>4.0</td>\n",
       "      <td>4.0</td>\n",
       "      <td>5.0</td>\n",
       "      <td>5.0</td>\n",
       "      <td>4.0</td>\n",
       "      <td>0</td>\n",
       "      <td>https://www.glassdoor.com/Reviews/Facebook-Rev...</td>\n",
       "    </tr>\n",
       "    <tr>\n",
       "      <td>34250</td>\n",
       "      <td>34251</td>\n",
       "      <td>facebook</td>\n",
       "      <td>Menlo Park, CA</td>\n",
       "      <td>Feb 16, 2017</td>\n",
       "      <td>Current Employee - Anonymous Employee</td>\n",
       "      <td>Fast paced company with high expectations, but...</td>\n",
       "      <td>- Incredible benefits - Excellent compensation...</td>\n",
       "      <td>- If you don't learn to make the work life bal...</td>\n",
       "      <td>Keep doing what you're doing, keep an eye on e...</td>\n",
       "      <td>5.0</td>\n",
       "      <td>5.0</td>\n",
       "      <td>5.0</td>\n",
       "      <td>5.0</td>\n",
       "      <td>5.0</td>\n",
       "      <td>5.0</td>\n",
       "      <td>294</td>\n",
       "      <td>https://www.glassdoor.com/Reviews/Facebook-Rev...</td>\n",
       "    </tr>\n",
       "    <tr>\n",
       "      <td>34251</td>\n",
       "      <td>34252</td>\n",
       "      <td>facebook</td>\n",
       "      <td>Menlo Park, CA</td>\n",
       "      <td>Feb 16, 2016</td>\n",
       "      <td>Current Employee - Site Selection Program Manager</td>\n",
       "      <td>Pleasantly Surprised</td>\n",
       "      <td>I'm a 55 year old working in a company where t...</td>\n",
       "      <td>Like any tech company, the work is big and com...</td>\n",
       "      <td>Keep doing what you're doing and fight hard to...</td>\n",
       "      <td>5.0</td>\n",
       "      <td>4.0</td>\n",
       "      <td>5.0</td>\n",
       "      <td>4.0</td>\n",
       "      <td>5.0</td>\n",
       "      <td>5.0</td>\n",
       "      <td>363</td>\n",
       "      <td>https://www.glassdoor.com/Reviews/Facebook-Rev...</td>\n",
       "    </tr>\n",
       "    <tr>\n",
       "      <td>34252</td>\n",
       "      <td>34253</td>\n",
       "      <td>facebook</td>\n",
       "      <td>Menlo Park, CA</td>\n",
       "      <td>Dec 3, 2018</td>\n",
       "      <td>Current Employee - Anonymous Employee</td>\n",
       "      <td>Don't believe all of the negative press</td>\n",
       "      <td>Having worked at Facebook for a number of year...</td>\n",
       "      <td>Particularly as of late, Facebook has been sub...</td>\n",
       "      <td>none</td>\n",
       "      <td>5.0</td>\n",
       "      <td>4.0</td>\n",
       "      <td>5.0</td>\n",
       "      <td>5.0</td>\n",
       "      <td>5.0</td>\n",
       "      <td>5.0</td>\n",
       "      <td>6</td>\n",
       "      <td>https://www.glassdoor.com/Reviews/Facebook-Rev...</td>\n",
       "    </tr>\n",
       "    <tr>\n",
       "      <td>34253</td>\n",
       "      <td>34254</td>\n",
       "      <td>facebook</td>\n",
       "      <td>Seattle, WA</td>\n",
       "      <td>Dec 5, 2018</td>\n",
       "      <td>Current Employee - Staff Software Engineer</td>\n",
       "      <td>Continues to be an amazing place to be</td>\n",
       "      <td>Smart people who were chosen to be good to wor...</td>\n",
       "      <td>Took a year and a half to learn to play defens...</td>\n",
       "      <td>I'd love to see management be half as open wit...</td>\n",
       "      <td>5.0</td>\n",
       "      <td>5.0</td>\n",
       "      <td>5.0</td>\n",
       "      <td>5.0</td>\n",
       "      <td>4.0</td>\n",
       "      <td>5.0</td>\n",
       "      <td>4</td>\n",
       "      <td>https://www.glassdoor.com/Reviews/Facebook-Rev...</td>\n",
       "    </tr>\n",
       "  </tbody>\n",
       "</table>\n",
       "</div>"
      ],
      "text/plain": [
       "       Unnamed: 0   company        location          dates  \\\n",
       "34249       34250  facebook  Menlo Park, CA   Dec 11, 2018   \n",
       "34250       34251  facebook  Menlo Park, CA   Feb 16, 2017   \n",
       "34251       34252  facebook  Menlo Park, CA   Feb 16, 2016   \n",
       "34252       34253  facebook  Menlo Park, CA    Dec 3, 2018   \n",
       "34253       34254  facebook     Seattle, WA    Dec 5, 2018   \n",
       "\n",
       "                                               job-title  \\\n",
       "34249              Current Employee - Product Operations   \n",
       "34250              Current Employee - Anonymous Employee   \n",
       "34251  Current Employee - Site Selection Program Manager   \n",
       "34252              Current Employee - Anonymous Employee   \n",
       "34253         Current Employee - Staff Software Engineer   \n",
       "\n",
       "                                                 summary  \\\n",
       "34249        2nd Job out of college --> Great Experience   \n",
       "34250  Fast paced company with high expectations, but...   \n",
       "34251                               Pleasantly Surprised   \n",
       "34252            Don't believe all of the negative press   \n",
       "34253             Continues to be an amazing place to be   \n",
       "\n",
       "                                                    pros  \\\n",
       "34249  Context: I worked in operations - Very entrepr...   \n",
       "34250  - Incredible benefits - Excellent compensation...   \n",
       "34251  I'm a 55 year old working in a company where t...   \n",
       "34252  Having worked at Facebook for a number of year...   \n",
       "34253  Smart people who were chosen to be good to wor...   \n",
       "\n",
       "                                                    cons  \\\n",
       "34249  - Very entrepreneurial culture: There is no fo...   \n",
       "34250  - If you don't learn to make the work life bal...   \n",
       "34251  Like any tech company, the work is big and com...   \n",
       "34252  Particularly as of late, Facebook has been sub...   \n",
       "34253  Took a year and a half to learn to play defens...   \n",
       "\n",
       "                                          advice-to-mgmt  overall-ratings  \\\n",
       "34249                                               none              5.0   \n",
       "34250  Keep doing what you're doing, keep an eye on e...              5.0   \n",
       "34251  Keep doing what you're doing and fight hard to...              5.0   \n",
       "34252                                               none              5.0   \n",
       "34253  I'd love to see management be half as open wit...              5.0   \n",
       "\n",
       "      work-balance-stars culture-values-stars carrer-opportunities-stars  \\\n",
       "34249                4.0                  4.0                        5.0   \n",
       "34250                5.0                  5.0                        5.0   \n",
       "34251                4.0                  5.0                        4.0   \n",
       "34252                4.0                  5.0                        5.0   \n",
       "34253                5.0                  5.0                        5.0   \n",
       "\n",
       "      comp-benefit-stars senior-mangemnet-stars  helpful-count  \\\n",
       "34249                5.0                    4.0              0   \n",
       "34250                5.0                    5.0            294   \n",
       "34251                5.0                    5.0            363   \n",
       "34252                5.0                    5.0              6   \n",
       "34253                4.0                    5.0              4   \n",
       "\n",
       "                                                    link  \n",
       "34249  https://www.glassdoor.com/Reviews/Facebook-Rev...  \n",
       "34250  https://www.glassdoor.com/Reviews/Facebook-Rev...  \n",
       "34251  https://www.glassdoor.com/Reviews/Facebook-Rev...  \n",
       "34252  https://www.glassdoor.com/Reviews/Facebook-Rev...  \n",
       "34253  https://www.glassdoor.com/Reviews/Facebook-Rev...  "
      ]
     },
     "execution_count": 2,
     "metadata": {},
     "output_type": "execute_result"
    }
   ],
   "source": [
    "facebook_df.head()"
   ]
  },
  {
   "cell_type": "code",
   "execution_count": 3,
   "metadata": {},
   "outputs": [],
   "source": [
    "pro_lines=facebook_df['pros'].values.tolist()"
   ]
  },
  {
   "cell_type": "code",
   "execution_count": 4,
   "metadata": {},
   "outputs": [],
   "source": [
    "# nltk.download('punkt')"
   ]
  },
  {
   "cell_type": "code",
   "execution_count": 5,
   "metadata": {},
   "outputs": [],
   "source": [
    "import string\n",
    "from nltk.tokenize import word_tokenize\n",
    "import nltk\n",
    "\n",
    "review_pro_lines=list()\n",
    "\n",
    "for line in pro_lines:\n",
    "    tokens=word_tokenize(line)\n",
    "    #convert lower\n",
    "    tokens=[w.lower() for w in tokens]\n",
    "    #punctuation\n",
    "    table=str.maketrans('','',string.punctuation)\n",
    "    stripped=[w.translate(table) for w in tokens]\n",
    "    #remove non alphabetic\n",
    "    words = [word for word in stripped if word.isalpha()]\n",
    "    #stop words\n",
    "    stop_words = nltk.corpus.stopwords.words('english')\n",
    "    words=[w for w in words if not w in stop_words]\n",
    "    #remove short words\n",
    "    words = [word for word in words if len(word)>3]\n",
    "    review_pro_lines.append(words)"
   ]
  },
  {
   "cell_type": "code",
   "execution_count": 6,
   "metadata": {},
   "outputs": [
    {
     "name": "stdout",
     "output_type": "stream",
     "text": [
      "[['context', 'worked', 'operations', 'entrepreneurial', 'culture', 'encouraged', 'build', 'systems', 'processes', 'accomplish', 'need', 'perks', 'great', 'collaborative', 'environment', 'giving', 'receiving', 'honest', 'constructive', 'feedback', 'huge', 'part', 'culture', 'room', 'growth', 'career', 'conversations', 'encouraged'], ['incredible', 'benefits', 'excellent', 'compensation', 'rewards', 'strong', 'performance', 'lots', 'autonomy', 'tons', 'room', 'growth', 'transparent', 'strong', 'leadership', 'intelligent', 'caring', 'colleagues', 'fair', 'well', 'thought', 'review', 'process', 'find', 'everywhere', 'exciting', 'work']]\n"
     ]
    }
   ],
   "source": [
    "print(review_pro_lines[:2])"
   ]
  },
  {
   "cell_type": "code",
   "execution_count": 7,
   "metadata": {},
   "outputs": [],
   "source": [
    "flatten_facebook_pro = lambda l: [item for sublist in l for item in sublist]"
   ]
  },
  {
   "cell_type": "code",
   "execution_count": 8,
   "metadata": {},
   "outputs": [
    {
     "name": "stdout",
     "output_type": "stream",
     "text": [
      "[('work', 985), ('people', 865), ('great', 733), ('company', 551), ('culture', 429), ('facebook', 403), ('benefits', 383), ('perks', 375), ('good', 321), ('food', 296)]\n"
     ]
    }
   ],
   "source": [
    "from collections import Counter\n",
    "counts = Counter(flatten_facebook_pro(review_pro_lines))\n",
    "print(counts.most_common(10))"
   ]
  },
  {
   "cell_type": "code",
   "execution_count": 9,
   "metadata": {},
   "outputs": [
    {
     "name": "stdout",
     "output_type": "stream",
     "text": [
      "4076\n"
     ]
    }
   ],
   "source": [
    "import gensim\n",
    "\n",
    "model_pro=gensim.models.Word2Vec(sentences=review_pro_lines,size=100,window=5,workers=4,min_count=1,sg=1)\n",
    "\n",
    "#vocab\n",
    "words=list(model_pro.wv.vocab)\n",
    "print(len(words))"
   ]
  },
  {
   "cell_type": "markdown",
   "metadata": {},
   "source": [
    "## Pros"
   ]
  },
  {
   "cell_type": "code",
   "execution_count": 10,
   "metadata": {},
   "outputs": [
    {
     "data": {
      "text/plain": [
       "[('lots', 0.9984403252601624),\n",
       " ('place', 0.9983710050582886),\n",
       " ('good', 0.9982541799545288),\n",
       " ('environment', 0.9982118606567383),\n",
       " ('amazing', 0.9981698989868164),\n",
       " ('compensation', 0.9980760216712952),\n",
       " ('projects', 0.9980689883232117),\n",
       " ('flexible', 0.998053252696991),\n",
       " ('smart', 0.9980027675628662),\n",
       " ('coworkers', 0.997940719127655)]"
      ]
     },
     "execution_count": 10,
     "metadata": {},
     "output_type": "execute_result"
    }
   ],
   "source": [
    "model_pro.wv.most_similar('work')"
   ]
  },
  {
   "cell_type": "code",
   "execution_count": 11,
   "metadata": {},
   "outputs": [
    {
     "data": {
      "text/plain": [
       "[('projects', 0.9978143572807312),\n",
       " ('coworkers', 0.9977320432662964),\n",
       " ('place', 0.9976077079772949),\n",
       " ('environment', 0.9975581169128418),\n",
       " ('smart', 0.9974753260612488),\n",
       " ('work', 0.9972542524337769),\n",
       " ('culture', 0.9971190690994263),\n",
       " ('interesting', 0.9969869256019592),\n",
       " ('amazing', 0.9967635869979858),\n",
       " ('compensation', 0.9965089559555054)]"
      ]
     },
     "execution_count": 11,
     "metadata": {},
     "output_type": "execute_result"
    }
   ],
   "source": [
    "model_pro.wv.most_similar('people')"
   ]
  },
  {
   "cell_type": "code",
   "execution_count": 12,
   "metadata": {},
   "outputs": [
    {
     "data": {
      "text/plain": [
       "[('environment', 0.9988602995872498),\n",
       " ('compensation', 0.9988009929656982),\n",
       " ('amazing', 0.9986958503723145),\n",
       " ('awesome', 0.9984318614006042),\n",
       " ('place', 0.9983372688293457),\n",
       " ('coworkers', 0.9982573986053467),\n",
       " ('nice', 0.9981217980384827),\n",
       " ('transparent', 0.9980335235595703),\n",
       " ('salary', 0.9980280995368958),\n",
       " ('good', 0.9980249404907227)]"
      ]
     },
     "execution_count": 12,
     "metadata": {},
     "output_type": "execute_result"
    }
   ],
   "source": [
    "model_pro.wv.most_similar('culture')"
   ]
  },
  {
   "cell_type": "code",
   "execution_count": 13,
   "metadata": {},
   "outputs": [
    {
     "data": {
      "text/plain": [
       "[('perks', 0.9993304014205933),\n",
       " ('awesome', 0.9988245368003845),\n",
       " ('good', 0.9986085891723633),\n",
       " ('amazing', 0.9979192018508911),\n",
       " ('compensation', 0.9977174997329712),\n",
       " ('environment', 0.9975618124008179),\n",
       " ('lots', 0.9974430799484253),\n",
       " ('great', 0.9970492124557495),\n",
       " ('food', 0.9968286752700806),\n",
       " ('culture', 0.9968259334564209)]"
      ]
     },
     "execution_count": 13,
     "metadata": {},
     "output_type": "execute_result"
    }
   ],
   "source": [
    "model_pro.wv.most_similar('benefits')"
   ]
  },
  {
   "cell_type": "code",
   "execution_count": 14,
   "metadata": {},
   "outputs": [
    {
     "data": {
      "text/plain": [
       "[('compensation', 0.9991588592529297),\n",
       " ('good', 0.9989002346992493),\n",
       " ('amazing', 0.998867928981781),\n",
       " ('culture', 0.9988602995872498),\n",
       " ('awesome', 0.9987562894821167),\n",
       " ('place', 0.9987224340438843),\n",
       " ('coworkers', 0.9986633658409119),\n",
       " ('nice', 0.9984884262084961),\n",
       " ('salary', 0.9984607696533203),\n",
       " ('flexible', 0.9984483122825623)]"
      ]
     },
     "execution_count": 14,
     "metadata": {},
     "output_type": "execute_result"
    }
   ],
   "source": [
    "model_pro.wv.most_similar('environment')"
   ]
  },
  {
   "cell_type": "markdown",
   "metadata": {},
   "source": [
    "## Cons"
   ]
  },
  {
   "cell_type": "code",
   "execution_count": 15,
   "metadata": {},
   "outputs": [],
   "source": [
    "con_lines=facebook_df['cons'].values.tolist()"
   ]
  },
  {
   "cell_type": "code",
   "execution_count": 16,
   "metadata": {},
   "outputs": [],
   "source": [
    "# nltk.download('punkt')"
   ]
  },
  {
   "cell_type": "code",
   "execution_count": 17,
   "metadata": {},
   "outputs": [],
   "source": [
    "review_con_lines=list()\n",
    "\n",
    "stop_words = nltk.corpus.stopwords.words('english')\n",
    "\n",
    "for line in con_lines:\n",
    "    tokens=word_tokenize(line)\n",
    "    #convert lower\n",
    "    tokens=[w.lower() for w in tokens]\n",
    "    #punctuation\n",
    "    table=str.maketrans('','',string.punctuation)\n",
    "    stripped=[w.translate(table) for w in tokens]\n",
    "    #remove non alphabetic\n",
    "    words = [word for word in stripped if word.isalpha()]\n",
    "    #stop words\n",
    "    words=[w for w in words if not w in stop_words]\n",
    "    review_con_lines.append(words)"
   ]
  },
  {
   "cell_type": "code",
   "execution_count": 18,
   "metadata": {},
   "outputs": [
    {
     "name": "stdout",
     "output_type": "stream",
     "text": [
      "[['entrepreneurial', 'culture', 'formal', 'facebook', 'way', 'things', 'work', 'environment', 'unstructured', 'times', 'open', 'floor', 'plan', 'distracting'], ['nt', 'learn', 'make', 'work', 'life', 'balance', 'work', 'exhausting', 'also', 'given', 'lots', 'support', 'ask', 'nt', 'matter', 'good', 'job', 'chances', 'going', 'surrounded', 'ton', 'people', 'good', 'better', 'imposter', 'syndrome', 'real', 'got', 'offer', 'probably', 'belong']]\n"
     ]
    }
   ],
   "source": [
    "print(review_con_lines[:2])"
   ]
  },
  {
   "cell_type": "code",
   "execution_count": 19,
   "metadata": {},
   "outputs": [],
   "source": [
    "flatten_facebook_con = lambda l: [item for sublist in l for item in sublist]"
   ]
  },
  {
   "cell_type": "code",
   "execution_count": 20,
   "metadata": {},
   "outputs": [
    {
     "name": "stdout",
     "output_type": "stream",
     "text": [
      "[('work', 558), ('company', 389), ('people', 378), ('nt', 351), ('facebook', 228), ('get', 212), ('balance', 191), ('time', 171), ('hard', 168), ('good', 165)]\n"
     ]
    }
   ],
   "source": [
    "from collections import Counter\n",
    "counts = Counter(flatten_facebook_con(review_con_lines))\n",
    "print(counts.most_common(10))"
   ]
  },
  {
   "cell_type": "code",
   "execution_count": 21,
   "metadata": {},
   "outputs": [
    {
     "name": "stdout",
     "output_type": "stream",
     "text": [
      "4710\n"
     ]
    }
   ],
   "source": [
    "model_con=gensim.models.Word2Vec(sentences=review_con_lines,size=100,window=5,workers=4,min_count=1,sg=1)\n",
    "\n",
    "#vocab\n",
    "words=list(model_con.wv.vocab)\n",
    "print(len(words))"
   ]
  },
  {
   "cell_type": "code",
   "execution_count": 22,
   "metadata": {},
   "outputs": [
    {
     "data": {
      "text/plain": [
       "[('hard', 0.9989723563194275),\n",
       " ('time', 0.9987075328826904),\n",
       " ('challenge', 0.9986531138420105),\n",
       " ('good', 0.9986100196838379),\n",
       " ('feel', 0.9986089468002319),\n",
       " ('pressure', 0.9986055493354797),\n",
       " ('hours', 0.998586118221283),\n",
       " ('want', 0.9985651969909668),\n",
       " ('manage', 0.9985349774360657),\n",
       " ('place', 0.9985283017158508)]"
      ]
     },
     "execution_count": 22,
     "metadata": {},
     "output_type": "execute_result"
    }
   ],
   "source": [
    "model_con.wv.most_similar('work')"
   ]
  },
  {
   "cell_type": "code",
   "execution_count": 23,
   "metadata": {},
   "outputs": [
    {
     "data": {
      "text/plain": [
       "[('make', 0.9996335506439209),\n",
       " ('place', 0.9995847940444946),\n",
       " ('lot', 0.9995781779289246),\n",
       " ('way', 0.9995740056037903),\n",
       " ('actually', 0.9995665550231934),\n",
       " ('go', 0.9995498657226562),\n",
       " ('good', 0.999544620513916),\n",
       " ('home', 0.9995445013046265),\n",
       " ('times', 0.9995423555374146),\n",
       " ('manager', 0.9995359182357788)]"
      ]
     },
     "execution_count": 23,
     "metadata": {},
     "output_type": "execute_result"
    }
   ],
   "source": [
    "model_con.wv.most_similar('people')"
   ]
  },
  {
   "cell_type": "code",
   "execution_count": 24,
   "metadata": {},
   "outputs": [
    {
     "data": {
      "text/plain": [
       "[('facebook', 0.999614953994751),\n",
       " ('big', 0.9995874762535095),\n",
       " ('might', 0.9995814561843872),\n",
       " ('definitely', 0.9995459318161011),\n",
       " ('know', 0.9995346069335938),\n",
       " ('around', 0.9995081424713135),\n",
       " ('hiring', 0.9995055198669434),\n",
       " ('little', 0.999494731426239),\n",
       " ('well', 0.9994931817054749),\n",
       " ('data', 0.999491274356842)]"
      ]
     },
     "execution_count": 24,
     "metadata": {},
     "output_type": "execute_result"
    }
   ],
   "source": [
    "model_con.wv.most_similar('company')"
   ]
  },
  {
   "cell_type": "code",
   "execution_count": 25,
   "metadata": {},
   "outputs": [
    {
     "data": {
      "text/plain": [
       "[('making', 0.999695897102356),\n",
       " ('else', 0.9996951818466187),\n",
       " ('issues', 0.9996859431266785),\n",
       " ('employee', 0.9996769428253174),\n",
       " ('huge', 0.9996762275695801),\n",
       " ('lot', 0.9996651411056519),\n",
       " ('constantly', 0.9996631741523743),\n",
       " ('towards', 0.9996620416641235),\n",
       " ('may', 0.9996613264083862),\n",
       " ('compensation', 0.9996598362922668)]"
      ]
     },
     "execution_count": 25,
     "metadata": {},
     "output_type": "execute_result"
    }
   ],
   "source": [
    "model_con.wv.most_similar('environment')"
   ]
  },
  {
   "cell_type": "code",
   "execution_count": 26,
   "metadata": {},
   "outputs": [
    {
     "data": {
      "text/plain": [
       "[('within', 0.999747633934021),\n",
       " ('person', 0.9997462034225464),\n",
       " ('reviews', 0.9997418522834778),\n",
       " ('world', 0.9997385144233704),\n",
       " ('due', 0.999736487865448),\n",
       " ('taking', 0.9997363686561584),\n",
       " ('data', 0.999730110168457),\n",
       " ('let', 0.9997259974479675),\n",
       " ('number', 0.9997255802154541),\n",
       " ('leadership', 0.9997245073318481)]"
      ]
     },
     "execution_count": 26,
     "metadata": {},
     "output_type": "execute_result"
    }
   ],
   "source": [
    "model_con.wv.most_similar('benefits')"
   ]
  },
  {
   "cell_type": "code",
   "execution_count": 27,
   "metadata": {},
   "outputs": [
    {
     "data": {
      "text/plain": [
       "[('time', 0.9994227290153503),\n",
       " ('times', 0.999394953250885),\n",
       " ('feel', 0.9993584156036377),\n",
       " ('difficult', 0.9993525743484497),\n",
       " ('sometimes', 0.9993498921394348),\n",
       " ('keep', 0.9993497133255005),\n",
       " ('high', 0.9993446469306946),\n",
       " ('challenge', 0.99933260679245),\n",
       " ('also', 0.9993292093276978),\n",
       " ('place', 0.9993207454681396)]"
      ]
     },
     "execution_count": 27,
     "metadata": {},
     "output_type": "execute_result"
    }
   ],
   "source": [
    "model_con.wv.most_similar('hard')"
   ]
  }
 ],
 "metadata": {
  "kernelspec": {
   "display_name": "Python 3",
   "language": "python",
   "name": "python3"
  },
  "language_info": {
   "codemirror_mode": {
    "name": "ipython",
    "version": 3
   },
   "file_extension": ".py",
   "mimetype": "text/x-python",
   "name": "python",
   "nbconvert_exporter": "python",
   "pygments_lexer": "ipython3",
   "version": "3.7.4"
  }
 },
 "nbformat": 4,
 "nbformat_minor": 2
}
