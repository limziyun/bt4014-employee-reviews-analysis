{
 "cells": [
  {
   "cell_type": "code",
   "execution_count": null,
   "metadata": {},
   "outputs": [],
   "source": [
    "import pandas as pd\n",
    "from statsmodels.tsa.arima_model import ARMA\n",
    "data = pd.read_csv('../Dataset/employee_reviews.csv', encoding = \"ISO-8859-1\",error_bad_lines=False);"
   ]
  },
  {
   "cell_type": "code",
   "execution_count": null,
   "metadata": {},
   "outputs": [],
   "source": [
    "data.info()"
   ]
  },
  {
   "cell_type": "code",
   "execution_count": null,
   "metadata": {},
   "outputs": [],
   "source": [
    "import calendar\n",
    "data['month_day'],data['year'] = data['dates'].str.split(',', 1).str\n",
    "data['none'],data['month'],data['day'] = data['month_day'].str.split(' ',2).str\n",
    "d=dict((v,k) for k,v in enumerate(calendar.month_abbr))\n",
    "data.month = data.month.map(d)\n",
    "data.year = data.year.str.replace(' ', '')\n",
    "data = data[data.year!= '0000']\n",
    "data = data[data.day!= '0']\n",
    "data.dropna(subset=['month','year','day'],inplace=True)\n",
    "\n",
    "data[\"date\"] =data[\"day\"].map(str)+\"-\"+data[\"month\"].map(int).map(str)+ \"-\"+data[\"year\"].map(str)\n",
    "data['date'] = pd.to_datetime(data['date'])\n",
    "data.head()"
   ]
  },
  {
   "cell_type": "code",
   "execution_count": null,
   "metadata": {},
   "outputs": [],
   "source": [
    "overall=data.groupby(['date'])['summary'].count()\n",
    "idx = pd.date_range(min(overall.index),max(overall.index)).tolist()\n",
    "overall=overall.reindex(idx, fill_value=0)\n",
    "\n",
    "overall.plot(figsize=(12,8));"
   ]
  },
  {
   "cell_type": "code",
   "execution_count": null,
   "metadata": {},
   "outputs": [],
   "source": [
    "data[data['date']=='2017-09-19'].groupby('company')['summary'].count()"
   ]
  },
  {
   "cell_type": "code",
   "execution_count": null,
   "metadata": {},
   "outputs": [],
   "source": [
    "# data.set_index('date',inplace=True)\n",
    "# data=data.loc['2017-12-11':'2018-12-11']\n",
    "# data.reset_index(inplace=True)"
   ]
  },
  {
   "cell_type": "code",
   "execution_count": null,
   "metadata": {},
   "outputs": [],
   "source": [
    "ts_facebook_positive=data[data['overall-ratings']>3]\n",
    "ts_facebook_positive=ts_facebook_positive[ts_facebook_positive['company']=='facebook'].groupby(['date'])['summary'].count()\n",
    "idx = pd.date_range(min(ts_facebook_positive.index),max(ts_facebook_positive.index)).tolist()\n",
    "ts_facebook_positive=ts_facebook_positive.reindex(idx, fill_value=0)\n",
    "\n",
    "ts_facebook_positive.plot(figsize=(12,8));\n",
    "# ts_facebook_positive.sum()"
   ]
  },
  {
   "cell_type": "code",
   "execution_count": null,
   "metadata": {},
   "outputs": [],
   "source": [
    "ts_facebook_negative=data[data['overall-ratings']<=3]\n",
    "ts_facebook_negative=ts_facebook_negative[ts_facebook_negative['company']=='facebook'].groupby(['date'])['summary'].count()\n",
    "\n",
    "idx = pd.date_range(min(ts_facebook_negative.index),max(ts_facebook_negative.index)).tolist()\n",
    "ts_facebook_negative=ts_facebook_negative.reindex(idx, fill_value=0)\n",
    "\n",
    "ts_facebook_negative.plot(figsize=(12,8));"
   ]
  },
  {
   "cell_type": "markdown",
   "metadata": {},
   "source": [
    "## Positive Reviews (Amazon)"
   ]
  },
  {
   "cell_type": "code",
   "execution_count": null,
   "metadata": {},
   "outputs": [],
   "source": [
    "ts_amazon_positive=data[data['overall-ratings']>3]\n",
    "ts_amazon_positive=ts_amazon_positive[ts_amazon_positive['company']=='amazon'].groupby(['date'])['summary'].count()\n",
    "idx = pd.date_range(min(ts_amazon_positive.index),max(ts_amazon_positive.index)).tolist()\n",
    "ts_amazon_positive=ts_amazon_positive.reindex(idx, fill_value=0)\n",
    "ts_amazon_positive.plot(figsize=(12,8));"
   ]
  },
  {
   "cell_type": "code",
   "execution_count": null,
   "metadata": {},
   "outputs": [],
   "source": [
    "import statsmodels.api as sm\n",
    "\n",
    "result_amazon_positive = sm.tsa.seasonal_decompose(ts_amazon_positive, model='additive',freq=365)\n",
    "show=result_amazon_positive.plot()"
   ]
  },
  {
   "cell_type": "code",
   "execution_count": null,
   "metadata": {},
   "outputs": [],
   "source": [
    "import matplotlib.pyplot as plt\n",
    "import statsmodels.tsa.api as smt\n",
    "\n",
    "def st_check(timeseries):   \n",
    "    rolmean = timeseries.rolling(window=365).mean() \n",
    "    rolstd = timeseries.rolling(window=365).std()\n",
    "\n",
    "    #Plot rolling statistics:\n",
    "    orig = plt.plot(timeseries, color='blue',label='Original')\n",
    "    mean = plt.plot(rolmean, color='red', label='Rolling Mean')\n",
    "    std  = plt.plot(rolstd, color='black', label = 'Rolling Std')\n",
    "    plt.legend(loc='best')\n",
    "    plt.title('Rolling Mean & Standard Deviation')\n",
    "    plt.show()\n",
    "\n",
    "    print ('Results of Dickey-Fuller Test:')\n",
    "    dftest = smt.adfuller(timeseries.values.squeeze())\n",
    "    dfoutput = pd.Series(dftest[0:4], index=['Test Statistic','p-value','#Lags Used','Number of Observations Used'])\n",
    "    print (dfoutput)\n",
    "    \n",
    "print(st_check(ts_amazon_positive))"
   ]
  },
  {
   "cell_type": "code",
   "execution_count": null,
   "metadata": {},
   "outputs": [],
   "source": [
    "fig = plt.figure(figsize=(12,8))\n",
    "ax1 = fig.add_subplot(211)\n",
    "fig = sm.graphics.tsa.plot_acf(ts_amazon_positive.values.squeeze(), lags=24, ax=ax1)"
   ]
  },
  {
   "cell_type": "markdown",
   "metadata": {},
   "source": [
    "## Positive Reviews (Amazon) After First Differencing"
   ]
  },
  {
   "cell_type": "code",
   "execution_count": null,
   "metadata": {},
   "outputs": [],
   "source": [
    "diff_ts_amazon_positive = ts_amazon_positive.diff()[1:]\n",
    "print(st_check(diff_ts_amazon_positive))"
   ]
  },
  {
   "cell_type": "code",
   "execution_count": null,
   "metadata": {},
   "outputs": [],
   "source": [
    "fig = plt.figure(figsize=(12,8))\n",
    "ax1 = fig.add_subplot(211)\n",
    "fig = sm.graphics.tsa.plot_acf(diff_ts_amazon_positive.values.squeeze(), lags=60, ax=ax1)\n",
    "ax2 = fig.add_subplot(212)\n",
    "fig = sm.graphics.tsa.plot_pacf(diff_ts_amazon_positive, lags=60, ax=ax2)"
   ]
  },
  {
   "cell_type": "code",
   "execution_count": null,
   "metadata": {},
   "outputs": [],
   "source": [
    "mod = ARMA(diff_ts_amazon_positive, order=(1,1))\n",
    "res = mod.fit(disp=False)\n",
    "print(res.summary())"
   ]
  },
  {
   "cell_type": "code",
   "execution_count": null,
   "metadata": {},
   "outputs": [],
   "source": [
    "mod = ARMA(diff_ts_amazon_positive, order=(1,2))\n",
    "res = mod.fit(disp=False)\n",
    "print(res.summary())"
   ]
  },
  {
   "cell_type": "markdown",
   "metadata": {},
   "source": [
    "## Negative Reviews (Amazon)"
   ]
  },
  {
   "cell_type": "code",
   "execution_count": null,
   "metadata": {},
   "outputs": [],
   "source": [
    "ts_amazon_negative=data[data['overall-ratings']<=3]\n",
    "ts_amazon_negative=ts_amazon_negative[ts_amazon_negative['company']=='amazon'].groupby(['date'])['summary'].count()\n",
    "idx = pd.date_range(min(ts_amazon_positive.index),max(ts_amazon_positive.index)).tolist()\n",
    "ts_amazon_positive=ts_amazon_positive.reindex(idx, fill_value=0)\n",
    "ts_amazon_negative.plot(figsize=(12,8));"
   ]
  },
  {
   "cell_type": "code",
   "execution_count": null,
   "metadata": {},
   "outputs": [],
   "source": [
    "result_amazon_negative = sm.tsa.seasonal_decompose(ts_amazon_negative, model='additive',freq=365)\n",
    "show=result_amazon_negative.plot()"
   ]
  },
  {
   "cell_type": "code",
   "execution_count": null,
   "metadata": {},
   "outputs": [],
   "source": [
    "print(st_check(ts_amazon_negative))"
   ]
  },
  {
   "cell_type": "code",
   "execution_count": null,
   "metadata": {},
   "outputs": [],
   "source": [
    "fig = plt.figure(figsize=(12,8))\n",
    "ax1 = fig.add_subplot(211)\n",
    "fig = sm.graphics.tsa.plot_acf(ts_amazon_negative.values.squeeze(), lags=24, ax=ax1)"
   ]
  },
  {
   "cell_type": "markdown",
   "metadata": {},
   "source": [
    "## Negative Reviews (Amazon) after First Differencing"
   ]
  },
  {
   "cell_type": "code",
   "execution_count": null,
   "metadata": {},
   "outputs": [],
   "source": [
    "diff_ts_amazon_negative = ts_amazon_negative.diff()[1:]\n",
    "print(st_check(diff_ts_amazon_negative))"
   ]
  },
  {
   "cell_type": "code",
   "execution_count": null,
   "metadata": {},
   "outputs": [],
   "source": [
    "fig = plt.figure(figsize=(12,8))\n",
    "ax1 = fig.add_subplot(211)\n",
    "fig = sm.graphics.tsa.plot_acf(diff_ts_amazon_negative.values.squeeze(), lags=60, ax=ax1)\n",
    "ax2 = fig.add_subplot(212)\n",
    "fig = sm.graphics.tsa.plot_pacf(diff_ts_amazon_negative, lags=60, ax=ax2)"
   ]
  },
  {
   "cell_type": "code",
   "execution_count": null,
   "metadata": {},
   "outputs": [],
   "source": [
    "mod = mod = ARMA(diff_ts_amazon_negative, order=(1,1))\n",
    "res = mod.fit(disp=False)\n",
    "print(res.summary())"
   ]
  },
  {
   "cell_type": "code",
   "execution_count": null,
   "metadata": {},
   "outputs": [],
   "source": [
    "mod = mod = ARMA(diff_ts_amazon_negative, order=(0,1))\n",
    "res = mod.fit(disp=False)\n",
    "print(res.summary())"
   ]
  },
  {
   "cell_type": "code",
   "execution_count": null,
   "metadata": {},
   "outputs": [],
   "source": [
    "mod = mod = ARMA(diff_ts_amazon_negative, order=(1,0))\n",
    "res = mod.fit(disp=False)\n",
    "print(res.summary())"
   ]
  }
 ],
 "metadata": {
  "kernelspec": {
   "display_name": "Python 3",
   "language": "python",
   "name": "python3"
  },
  "language_info": {
   "codemirror_mode": {
    "name": "ipython",
    "version": 3
   },
   "file_extension": ".py",
   "mimetype": "text/x-python",
   "name": "python",
   "nbconvert_exporter": "python",
   "pygments_lexer": "ipython3",
   "version": "3.7.4"
  }
 },
 "nbformat": 4,
 "nbformat_minor": 2
}
